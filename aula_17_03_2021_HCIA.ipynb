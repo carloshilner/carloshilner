{
  "nbformat": 4,
  "nbformat_minor": 0,
  "metadata": {
    "colab": {
      "name": "aula-17-03-2021-HCIA.ipynb",
      "provenance": [],
      "toc_visible": true,
      "authorship_tag": "ABX9TyNud6RIryULNq9m/6YubpyM",
      "include_colab_link": true
    },
    "kernelspec": {
      "name": "python3",
      "display_name": "Python 3"
    }
  },
  "cells": [
    {
      "cell_type": "markdown",
      "metadata": {
        "id": "view-in-github",
        "colab_type": "text"
      },
      "source": [
        "<a href=\"https://colab.research.google.com/github/carloshilner/carloshilner/blob/main/aula_17_03_2021_HCIA.ipynb\" target=\"_parent\"><img src=\"https://colab.research.google.com/assets/colab-badge.svg\" alt=\"Open In Colab\"/></a>"
      ]
    },
    {
      "cell_type": "code",
      "metadata": {
        "colab": {
          "base_uri": "https://localhost:8080/"
        },
        "id": "miir9DoAEyjh",
        "outputId": "ccef61d8-45fc-4168-be91-ae49b8d8d86e"
      },
      "source": [
        "import numpy as np\n",
        "arr1 = np.random.rand(5)\n",
        "arr1"
      ],
      "execution_count": 4,
      "outputs": [
        {
          "output_type": "execute_result",
          "data": {
            "text/plain": [
              "array([0.21860232, 0.52583462, 0.72513846, 0.1691371 , 0.50807266])"
            ]
          },
          "metadata": {
            "tags": []
          },
          "execution_count": 4
        }
      ]
    },
    {
      "cell_type": "code",
      "metadata": {
        "colab": {
          "base_uri": "https://localhost:8080/"
        },
        "id": "AXY2lGBeOIK_",
        "outputId": "c402d5f6-90a2-4c69-a96a-913bba620ec0"
      },
      "source": [
        "arr1.max()\n"
      ],
      "execution_count": 5,
      "outputs": [
        {
          "output_type": "execute_result",
          "data": {
            "text/plain": [
              "0.7251384604790203"
            ]
          },
          "metadata": {
            "tags": []
          },
          "execution_count": 5
        }
      ]
    },
    {
      "cell_type": "code",
      "metadata": {
        "colab": {
          "base_uri": "https://localhost:8080/",
          "height": 129
        },
        "id": "D2e6onEVOMQs",
        "outputId": "07878073-4379-4e04-f0e3-964db85afbb6"
      },
      "source": [
        "arr1.argmax()\n"
      ],
      "execution_count": 8,
      "outputs": [
        {
          "output_type": "error",
          "ename": "SyntaxError",
          "evalue": "ignored",
          "traceback": [
            "\u001b[0;36m  File \u001b[0;32m\"<ipython-input-8-45e0ca2f5da8>\"\u001b[0;36m, line \u001b[0;32m2\u001b[0m\n\u001b[0;31m    ---\u001b[0m\n\u001b[0m       ^\u001b[0m\n\u001b[0;31mSyntaxError\u001b[0m\u001b[0;31m:\u001b[0m invalid syntax\n"
          ]
        }
      ]
    },
    {
      "cell_type": "code",
      "metadata": {
        "colab": {
          "base_uri": "https://localhost:8080/"
        },
        "id": "ZKj9WtpnOVu0",
        "outputId": "a1a46f45-3c15-456b-9cd1-71413773082d"
      },
      "source": [
        "arr1.min()"
      ],
      "execution_count": 9,
      "outputs": [
        {
          "output_type": "execute_result",
          "data": {
            "text/plain": [
              "0.1691371005935871"
            ]
          },
          "metadata": {
            "tags": []
          },
          "execution_count": 9
        }
      ]
    },
    {
      "cell_type": "code",
      "metadata": {
        "colab": {
          "base_uri": "https://localhost:8080/"
        },
        "id": "TLraPqXOOZM7",
        "outputId": "2992fd85-b671-4340-8f85-ac3c5fbadbde"
      },
      "source": [
        "arr1.mean()"
      ],
      "execution_count": 10,
      "outputs": [
        {
          "output_type": "execute_result",
          "data": {
            "text/plain": [
              "0.4293570304462369"
            ]
          },
          "metadata": {
            "tags": []
          },
          "execution_count": 10
        }
      ]
    },
    {
      "cell_type": "code",
      "metadata": {
        "colab": {
          "base_uri": "https://localhost:8080/"
        },
        "id": "bb1-1rzOOcEP",
        "outputId": "8e23898d-c416-4ce4-d4b2-f38f9b8c440a"
      },
      "source": [
        "arr1 + 5 "
      ],
      "execution_count": 11,
      "outputs": [
        {
          "output_type": "execute_result",
          "data": {
            "text/plain": [
              "array([5.21860232, 5.52583462, 5.72513846, 5.1691371 , 5.50807266])"
            ]
          },
          "metadata": {
            "tags": []
          },
          "execution_count": 11
        }
      ]
    },
    {
      "cell_type": "code",
      "metadata": {
        "colab": {
          "base_uri": "https://localhost:8080/"
        },
        "id": "TmqDxAi5OhK2",
        "outputId": "e28311a5-bd89-43bf-fdf2-03810a830638"
      },
      "source": [
        "arr2=np.random.rand(5)\n",
        "arr2"
      ],
      "execution_count": 13,
      "outputs": [
        {
          "output_type": "execute_result",
          "data": {
            "text/plain": [
              "array([0.9546954 , 0.2619079 , 0.1143118 , 0.4568984 , 0.40530761])"
            ]
          },
          "metadata": {
            "tags": []
          },
          "execution_count": 13
        }
      ]
    },
    {
      "cell_type": "code",
      "metadata": {
        "colab": {
          "base_uri": "https://localhost:8080/"
        },
        "id": "-JTyskRVOu1K",
        "outputId": "54244952-5388-4490-db11-94bce436207b"
      },
      "source": [
        "arr1+arr2"
      ],
      "execution_count": 14,
      "outputs": [
        {
          "output_type": "execute_result",
          "data": {
            "text/plain": [
              "array([1.17329771, 0.78774252, 0.83945026, 0.6260355 , 0.91338027])"
            ]
          },
          "metadata": {
            "tags": []
          },
          "execution_count": 14
        }
      ]
    },
    {
      "cell_type": "code",
      "metadata": {
        "colab": {
          "base_uri": "https://localhost:8080/"
        },
        "id": "3K_xHscjO109",
        "outputId": "34c3410b-ffd5-4e1a-c618-e7f7c4555e28"
      },
      "source": [
        "arr1 * arr2"
      ],
      "execution_count": 15,
      "outputs": [
        {
          "output_type": "execute_result",
          "data": {
            "text/plain": [
              "array([0.20869863, 0.13772024, 0.08289188, 0.07727847, 0.20592572])"
            ]
          },
          "metadata": {
            "tags": []
          },
          "execution_count": 15
        }
      ]
    },
    {
      "cell_type": "code",
      "metadata": {
        "colab": {
          "base_uri": "https://localhost:8080/"
        },
        "id": "VCyzLvjwO3ut",
        "outputId": "264ef0d7-e225-4bf8-81f3-ebde092d1336"
      },
      "source": [
        "np.sqrt(arr2)"
      ],
      "execution_count": 16,
      "outputs": [
        {
          "output_type": "execute_result",
          "data": {
            "text/plain": [
              "array([0.97708515, 0.51176939, 0.33810028, 0.6759426 , 0.63663774])"
            ]
          },
          "metadata": {
            "tags": []
          },
          "execution_count": 16
        }
      ]
    },
    {
      "cell_type": "code",
      "metadata": {
        "colab": {
          "base_uri": "https://localhost:8080/"
        },
        "id": "70Dafh6nO9Mo",
        "outputId": "1da2987e-af58-4349-ccc0-b1711eb66e05"
      },
      "source": [
        "arr2.sum()"
      ],
      "execution_count": 17,
      "outputs": [
        {
          "output_type": "execute_result",
          "data": {
            "text/plain": [
              "2.193121110434188"
            ]
          },
          "metadata": {
            "tags": []
          },
          "execution_count": 17
        }
      ]
    },
    {
      "cell_type": "code",
      "metadata": {
        "colab": {
          "base_uri": "https://localhost:8080/"
        },
        "id": "7FMsrwjXPXH-",
        "outputId": "776d3272-4037-4b82-bc16-a3ec82db6950"
      },
      "source": [
        "mat1 = np.random.randint(2,30,(3,2))\n",
        "mat1"
      ],
      "execution_count": 18,
      "outputs": [
        {
          "output_type": "execute_result",
          "data": {
            "text/plain": [
              "array([[11, 27],\n",
              "       [21, 23],\n",
              "       [23, 22]])"
            ]
          },
          "metadata": {
            "tags": []
          },
          "execution_count": 18
        }
      ]
    },
    {
      "cell_type": "code",
      "metadata": {
        "colab": {
          "base_uri": "https://localhost:8080/"
        },
        "id": "b0wP1JTxPlZC",
        "outputId": "ed0794db-b6a7-47d4-b972-14532c0abd75"
      },
      "source": [
        "mat2 = np.random.randint(5,43,(2,4))\n",
        "mat2"
      ],
      "execution_count": 19,
      "outputs": [
        {
          "output_type": "execute_result",
          "data": {
            "text/plain": [
              "array([[40, 35, 23, 36],\n",
              "       [39, 13, 39,  8]])"
            ]
          },
          "metadata": {
            "tags": []
          },
          "execution_count": 19
        }
      ]
    },
    {
      "cell_type": "code",
      "metadata": {
        "colab": {
          "base_uri": "https://localhost:8080/"
        },
        "id": "RSs6R2OiPs8Q",
        "outputId": "148b59f7-9a5e-4365-8c83-0049b81e5c27"
      },
      "source": [
        "np.matmul(mat1, mat2)"
      ],
      "execution_count": 20,
      "outputs": [
        {
          "output_type": "execute_result",
          "data": {
            "text/plain": [
              "array([[1493,  736, 1306,  612],\n",
              "       [1737, 1034, 1380,  940],\n",
              "       [1778, 1091, 1387, 1004]])"
            ]
          },
          "metadata": {
            "tags": []
          },
          "execution_count": 20
        }
      ]
    },
    {
      "cell_type": "code",
      "metadata": {
        "colab": {
          "base_uri": "https://localhost:8080/"
        },
        "id": "zXdXpwmfP54J",
        "outputId": "e197c7f4-b7ac-4ccd-857d-2b8cc1d751aa"
      },
      "source": [
        "result = np.matmul(mat1,mat2)\n",
        "result"
      ],
      "execution_count": 23,
      "outputs": [
        {
          "output_type": "execute_result",
          "data": {
            "text/plain": [
              "array([[1493,  736, 1306,  612],\n",
              "       [1737, 1034, 1380,  940],\n",
              "       [1778, 1091, 1387, 1004]])"
            ]
          },
          "metadata": {
            "tags": []
          },
          "execution_count": 23
        }
      ]
    },
    {
      "cell_type": "code",
      "metadata": {
        "colab": {
          "base_uri": "https://localhost:8080/"
        },
        "id": "uZAcMKvzQTh3",
        "outputId": "2926b3a8-6670-43a2-ed92-c4c9596356e9"
      },
      "source": [
        "result.sum()"
      ],
      "execution_count": 24,
      "outputs": [
        {
          "output_type": "execute_result",
          "data": {
            "text/plain": [
              "14498"
            ]
          },
          "metadata": {
            "tags": []
          },
          "execution_count": 24
        }
      ]
    },
    {
      "cell_type": "code",
      "metadata": {
        "colab": {
          "base_uri": "https://localhost:8080/"
        },
        "id": "ZuxexBccQYHm",
        "outputId": "cf643860-d7b7-4a20-e5aa-49631dccbc4b"
      },
      "source": [
        "result.sum(axis=0)"
      ],
      "execution_count": 26,
      "outputs": [
        {
          "output_type": "execute_result",
          "data": {
            "text/plain": [
              "array([5008, 2861, 4073, 2556])"
            ]
          },
          "metadata": {
            "tags": []
          },
          "execution_count": 26
        }
      ]
    },
    {
      "cell_type": "code",
      "metadata": {
        "colab": {
          "base_uri": "https://localhost:8080/"
        },
        "id": "ENsLXScfQfFk",
        "outputId": "6db88a27-ba5b-4120-9ed8-a4427a6686e1"
      },
      "source": [
        "result.sum(1)"
      ],
      "execution_count": 27,
      "outputs": [
        {
          "output_type": "execute_result",
          "data": {
            "text/plain": [
              "array([4147, 5091, 5260])"
            ]
          },
          "metadata": {
            "tags": []
          },
          "execution_count": 27
        }
      ]
    },
    {
      "cell_type": "code",
      "metadata": {
        "id": "hfjrTke7QrKE"
      },
      "source": [
        "##indexing e selecting\n"
      ],
      "execution_count": null,
      "outputs": []
    },
    {
      "cell_type": "code",
      "metadata": {
        "colab": {
          "base_uri": "https://localhost:8080/"
        },
        "id": "ZqNdimk9Q6Ye",
        "outputId": "9e8172da-3037-4823-be5a-ab1d28c3ef40"
      },
      "source": [
        "arr1 = np.arange(2,11)\n",
        "arr1"
      ],
      "execution_count": 28,
      "outputs": [
        {
          "output_type": "execute_result",
          "data": {
            "text/plain": [
              "array([ 2,  3,  4,  5,  6,  7,  8,  9, 10])"
            ]
          },
          "metadata": {
            "tags": []
          },
          "execution_count": 28
        }
      ]
    },
    {
      "cell_type": "code",
      "metadata": {
        "colab": {
          "base_uri": "https://localhost:8080/"
        },
        "id": "J0ez6jnQRDb8",
        "outputId": "f259d9a2-2c6d-4eb0-ccf4-8cb27260863a"
      },
      "source": [
        "arr1[2:6]"
      ],
      "execution_count": 29,
      "outputs": [
        {
          "output_type": "execute_result",
          "data": {
            "text/plain": [
              "array([4, 5, 6, 7])"
            ]
          },
          "metadata": {
            "tags": []
          },
          "execution_count": 29
        }
      ]
    },
    {
      "cell_type": "code",
      "metadata": {
        "colab": {
          "base_uri": "https://localhost:8080/"
        },
        "id": "g_YEvrUpRNue",
        "outputId": "9246b810-fcd4-4fc3-e2d3-7fef5c8e02f8"
      },
      "source": [
        "arr1[:6]"
      ],
      "execution_count": 30,
      "outputs": [
        {
          "output_type": "execute_result",
          "data": {
            "text/plain": [
              "array([2, 3, 4, 5, 6, 7])"
            ]
          },
          "metadata": {
            "tags": []
          },
          "execution_count": 30
        }
      ]
    },
    {
      "cell_type": "code",
      "metadata": {
        "colab": {
          "base_uri": "https://localhost:8080/"
        },
        "id": "S7kNtQw8RTrF",
        "outputId": "fed3438c-fa2f-416f-f603-6af7a740e89c"
      },
      "source": [
        "arr1[3:]"
      ],
      "execution_count": 31,
      "outputs": [
        {
          "output_type": "execute_result",
          "data": {
            "text/plain": [
              "array([ 5,  6,  7,  8,  9, 10])"
            ]
          },
          "metadata": {
            "tags": []
          },
          "execution_count": 31
        }
      ]
    },
    {
      "cell_type": "code",
      "metadata": {
        "colab": {
          "base_uri": "https://localhost:8080/"
        },
        "id": "8TmmoRHmRV9p",
        "outputId": "db09158b-d224-4d6d-e383-b2a660e0db6a"
      },
      "source": [
        "arr1[2:5] = 200\n",
        "arr1"
      ],
      "execution_count": 34,
      "outputs": [
        {
          "output_type": "execute_result",
          "data": {
            "text/plain": [
              "array([  2,   3, 200, 200, 200,   7,   8,   9,  10])"
            ]
          },
          "metadata": {
            "tags": []
          },
          "execution_count": 34
        }
      ]
    },
    {
      "cell_type": "code",
      "metadata": {
        "colab": {
          "base_uri": "https://localhost:8080/"
        },
        "id": "MLzeS1G2RePj",
        "outputId": "6043bbcb-0926-406c-e629-d7ea794a3760"
      },
      "source": [
        "mat1 = np.random.rand(3,2)\n",
        "mat1"
      ],
      "execution_count": 35,
      "outputs": [
        {
          "output_type": "execute_result",
          "data": {
            "text/plain": [
              "array([[0.09365594, 0.37861327],\n",
              "       [0.29386513, 0.00603203],\n",
              "       [0.96544755, 0.76804852]])"
            ]
          },
          "metadata": {
            "tags": []
          },
          "execution_count": 35
        }
      ]
    },
    {
      "cell_type": "code",
      "metadata": {
        "colab": {
          "base_uri": "https://localhost:8080/"
        },
        "id": "LeWpvkq5RsHB",
        "outputId": "e7cd21b5-270f-46e5-a56b-f6694ec17bd2"
      },
      "source": [
        "mat1[1:,:]"
      ],
      "execution_count": 36,
      "outputs": [
        {
          "output_type": "execute_result",
          "data": {
            "text/plain": [
              "array([[0.29386513, 0.00603203],\n",
              "       [0.96544755, 0.76804852]])"
            ]
          },
          "metadata": {
            "tags": []
          },
          "execution_count": 36
        }
      ]
    },
    {
      "cell_type": "code",
      "metadata": {
        "colab": {
          "base_uri": "https://localhost:8080/"
        },
        "id": "0ElVAUb2R51G",
        "outputId": "683000b1-fe61-4029-be3b-1d56644fe32c"
      },
      "source": [
        "mat1[1:,:1]"
      ],
      "execution_count": 37,
      "outputs": [
        {
          "output_type": "execute_result",
          "data": {
            "text/plain": [
              "array([[0.29386513],\n",
              "       [0.96544755]])"
            ]
          },
          "metadata": {
            "tags": []
          },
          "execution_count": 37
        }
      ]
    },
    {
      "cell_type": "code",
      "metadata": {
        "id": "dUXZCuOwSAyg"
      },
      "source": [
        "## conditional selecting\n"
      ],
      "execution_count": 38,
      "outputs": []
    },
    {
      "cell_type": "code",
      "metadata": {
        "colab": {
          "base_uri": "https://localhost:8080/"
        },
        "id": "GpbDn25uSQvn",
        "outputId": "a6899979-1bd4-48c8-c8e7-ac1bc2008696"
      },
      "source": [
        "arr1 = np.arange(2,5)\n",
        "arr1"
      ],
      "execution_count": 41,
      "outputs": [
        {
          "output_type": "execute_result",
          "data": {
            "text/plain": [
              "array([2, 3, 4])"
            ]
          },
          "metadata": {
            "tags": []
          },
          "execution_count": 41
        }
      ]
    },
    {
      "cell_type": "code",
      "metadata": {
        "colab": {
          "base_uri": "https://localhost:8080/"
        },
        "id": "Sq-1PGGoSXIT",
        "outputId": "ad45e700-d9ae-4b51-98e9-c93f7f26e34f"
      },
      "source": [
        "arr1[[True,False,True]]"
      ],
      "execution_count": 42,
      "outputs": [
        {
          "output_type": "execute_result",
          "data": {
            "text/plain": [
              "array([2, 4])"
            ]
          },
          "metadata": {
            "tags": []
          },
          "execution_count": 42
        }
      ]
    },
    {
      "cell_type": "code",
      "metadata": {
        "colab": {
          "base_uri": "https://localhost:8080/"
        },
        "id": "3cs96o9mSuNj",
        "outputId": "efcd9419-6621-4db0-897f-f806d92652ef"
      },
      "source": [
        "arr2 = np.random.rand(10)\n",
        "arr2"
      ],
      "execution_count": 43,
      "outputs": [
        {
          "output_type": "execute_result",
          "data": {
            "text/plain": [
              "array([0.40905981, 0.27758858, 0.58796281, 0.17617023, 0.41852204,\n",
              "       0.87519271, 0.81270699, 0.98452822, 0.54579099, 0.48879429])"
            ]
          },
          "metadata": {
            "tags": []
          },
          "execution_count": 43
        }
      ]
    },
    {
      "cell_type": "code",
      "metadata": {
        "colab": {
          "base_uri": "https://localhost:8080/"
        },
        "id": "JlsoiCx5SzLW",
        "outputId": "9c14324a-43c5-46a3-a41f-388ab84e6ef0"
      },
      "source": [
        "arr2 > 0.5\n"
      ],
      "execution_count": 44,
      "outputs": [
        {
          "output_type": "execute_result",
          "data": {
            "text/plain": [
              "array([False, False,  True, False, False,  True,  True,  True,  True,\n",
              "       False])"
            ]
          },
          "metadata": {
            "tags": []
          },
          "execution_count": 44
        }
      ]
    },
    {
      "cell_type": "code",
      "metadata": {
        "colab": {
          "base_uri": "https://localhost:8080/"
        },
        "id": "ywcAyUTTS2mF",
        "outputId": "ecddb387-e233-4593-baaf-fb900af2bb56"
      },
      "source": [
        "arr2[arr2>0.5]"
      ],
      "execution_count": 46,
      "outputs": [
        {
          "output_type": "execute_result",
          "data": {
            "text/plain": [
              "array([0.58796281, 0.87519271, 0.81270699, 0.98452822, 0.54579099])"
            ]
          },
          "metadata": {
            "tags": []
          },
          "execution_count": 46
        }
      ]
    },
    {
      "cell_type": "code",
      "metadata": {
        "id": "HY9k0cRQTIwq"
      },
      "source": [
        ""
      ],
      "execution_count": null,
      "outputs": []
    }
  ]
}